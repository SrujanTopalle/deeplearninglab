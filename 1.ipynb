{
  "nbformat": 4,
  "nbformat_minor": 0,
  "metadata": {
    "colab": {
      "provenance": [],
      "authorship_tag": "ABX9TyPmGeMQXmRZs6TPCqqSFrtu",
      "include_colab_link": true
    },
    "kernelspec": {
      "name": "python3",
      "display_name": "Python 3"
    },
    "language_info": {
      "name": "python"
    }
  },
  "cells": [
    {
      "cell_type": "markdown",
      "metadata": {
        "id": "view-in-github",
        "colab_type": "text"
      },
      "source": [
        "<a href=\"https://colab.research.google.com/github/SrujanTopalle/deeplearninglab/blob/main/1.ipynb\" target=\"_parent\"><img src=\"https://colab.research.google.com/assets/colab-badge.svg\" alt=\"Open In Colab\"/></a>"
      ]
    },
    {
      "cell_type": "markdown",
      "source": [
        "Develop a Python script to execute various learning rules commonly employed in\n",
        " deep learning, including the Hebbian Learning Rule, Perceptron Learning Rule, Delta\n",
        " Learning Rule, Correlation Learning Rule, and OutStar Learning Rule."
      ],
      "metadata": {
        "id": "yg9lZq_H1NCd"
      }
    },
    {
      "cell_type": "code",
      "source": [
        "import numpy as np"
      ],
      "metadata": {
        "id": "_4JA8LIP1aQv"
      },
      "execution_count": 12,
      "outputs": []
    },
    {
      "cell_type": "code",
      "execution_count": 13,
      "metadata": {
        "id": "GVEDZRSswy02"
      },
      "outputs": [],
      "source": [
        "def hebb(input_matrix,weight_matrix):\n",
        "  return weight_matrix + np.outer(input_matrix,input_matrix)"
      ]
    },
    {
      "cell_type": "code",
      "source": [
        "def perceptron(input_matrix,weight_matrix,learning_rate,target_value):\n",
        "  prediction = np.sign(np.dot(input_matrix,weight_matrix))\n",
        "  error = target_value - prediction\n",
        "  return weight_matrix + learning_rate * error * input_matrix"
      ],
      "metadata": {
        "id": "UbpvjR971ZCK"
      },
      "execution_count": 14,
      "outputs": []
    },
    {
      "cell_type": "code",
      "source": [
        "def delta(input_matrix,weight_matrix,learning_rate,target_value):\n",
        "  prediction = np.dot(input_matrix,weight_matrix)\n",
        "  error = prediction - target_value\n",
        "  return weight_matrix + error * learning_rate * input_matrix"
      ],
      "metadata": {
        "id": "kvMOW2-G2Jqt"
      },
      "execution_count": 15,
      "outputs": []
    },
    {
      "cell_type": "code",
      "source": [
        "def correlation(input_matrix,weight_matrix):\n",
        "  return weight_matrix + np.outer(input_matrix,input_matrix)"
      ],
      "metadata": {
        "id": "SjY3vDQw2nat"
      },
      "execution_count": 16,
      "outputs": []
    },
    {
      "cell_type": "code",
      "source": [
        "def outstar(input_matrix,weight_matrix,learning_rate):\n",
        "  return weight_matrix + learning_rate * np.outer(input_matrix,input_matrix)"
      ],
      "metadata": {
        "id": "aXF1aVrQ3UWf"
      },
      "execution_count": 17,
      "outputs": []
    },
    {
      "cell_type": "code",
      "source": [
        "weight_matrix = np.random.rand(3,3)\n",
        "input_matrix = np.random.rand(3)\n",
        "target_value = 1\n",
        "learning_rate = 0.1"
      ],
      "metadata": {
        "id": "S5G1qr2g3gKK"
      },
      "execution_count": 18,
      "outputs": []
    },
    {
      "cell_type": "code",
      "source": [
        "print(f\"Original weight matrix:\\n\\n{weight_matrix}\")\n",
        "print(f\"Original input matrix:\\n\\n{input_matrix}\")"
      ],
      "metadata": {
        "colab": {
          "base_uri": "https://localhost:8080/"
        },
        "id": "81KfkF1U4pdg",
        "outputId": "36a375b5-cbbc-47de-c6d6-7f90d0851f60"
      },
      "execution_count": 21,
      "outputs": [
        {
          "output_type": "stream",
          "name": "stdout",
          "text": [
            "Original weight matrix:\n",
            "\n",
            "[[0.96342283 0.55602147 0.98150717]\n",
            " [0.49462727 0.63287503 0.86271995]\n",
            " [0.20079623 0.91962469 0.477521  ]]\n",
            "Original input matrix:\n",
            "\n",
            "[0.05294204 0.69452033 0.78551532]\n"
          ]
        }
      ]
    },
    {
      "cell_type": "code",
      "source": [
        "print(f\"Hebb:\\n\\n{hebb(input_matrix,weight_matrix)}\")\n",
        "print(f\"Hebb:\\n\\n{perceptron(input_matrix,weight_matrix,learning_rate,target_value)}\")\n",
        "print(f\"Delta:\\n\\n{delta(input_matrix,weight_matrix,learning_rate,target_value)}\")\n",
        "print(f\"Correlation:\\n\\n{correlation(input_matrix,weight_matrix)}\")\n",
        "print(f\"Outstar:\\n\\n{outstar(input_matrix,weight_matrix,learning_rate)}\")"
      ],
      "metadata": {
        "colab": {
          "base_uri": "https://localhost:8080/"
        },
        "id": "SQPQEfE13-1x",
        "outputId": "cf9c2919-d3ba-4fce-af3e-fcf7737da3fd"
      },
      "execution_count": 22,
      "outputs": [
        {
          "output_type": "stream",
          "name": "stdout",
          "text": [
            "Hebb:\n",
            "\n",
            "[[0.96622569 0.5927908  1.02309396]\n",
            " [0.53139659 1.11523352 1.40827631]\n",
            " [0.24238302 1.46518105 1.09455532]]\n",
            "Hebb:\n",
            "\n",
            "[[0.96342283 0.55602147 0.98150717]\n",
            " [0.49462727 0.63287503 0.86271995]\n",
            " [0.20079623 0.91962469 0.477521  ]]\n",
            "Delta:\n",
            "\n",
            "[[0.96105242 0.56931187 0.98356833]\n",
            " [0.49225686 0.64616543 0.86478111]\n",
            " [0.19842582 0.93291508 0.47958216]]\n",
            "Correlation:\n",
            "\n",
            "[[0.96622569 0.5927908  1.02309396]\n",
            " [0.53139659 1.11523352 1.40827631]\n",
            " [0.24238302 1.46518105 1.09455532]]\n",
            "Outstar:\n",
            "\n",
            "[[0.96370312 0.5596984  0.98566585]\n",
            " [0.4983042  0.68111088 0.91727558]\n",
            " [0.20495491 0.97418032 0.53922443]]\n"
          ]
        }
      ]
    },
    {
      "cell_type": "code",
      "source": [],
      "metadata": {
        "id": "457SkGTl4dWf"
      },
      "execution_count": null,
      "outputs": []
    }
  ]
}