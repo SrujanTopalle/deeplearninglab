{
  "nbformat": 4,
  "nbformat_minor": 0,
  "metadata": {
    "colab": {
      "provenance": [],
      "authorship_tag": "ABX9TyMMgOc7vCaf7ItyHe+bLtCC",
      "include_colab_link": true
    },
    "kernelspec": {
      "name": "python3",
      "display_name": "Python 3"
    },
    "language_info": {
      "name": "python"
    }
  },
  "cells": [
    {
      "cell_type": "markdown",
      "metadata": {
        "id": "view-in-github",
        "colab_type": "text"
      },
      "source": [
        "<a href=\"https://colab.research.google.com/github/SrujanTopalle/deeplearninglab/blob/main/3.ipynb\" target=\"_parent\"><img src=\"https://colab.research.google.com/assets/colab-badge.svg\" alt=\"Open In Colab\"/></a>"
      ]
    },
    {
      "cell_type": "markdown",
      "source": [
        "Implement a python program for Perceptron Networks by\n",
        " considering the given scenario. A student wants to make a decision about whether to\n",
        " go for a movie or not by looking at 3 parameters using a single neuron. The three\n",
        " inputs are Favourite hero, heroine, and Climate. Each has weights and we have a bias\n",
        " in the perceptron. If the condition is true input is 1 else input is 0, weights for\n",
        " Favourite hero=0.2, Exam=0.4, and Climate=0.2 and bias=-0.5. output is 1. The\n",
        " decision is to go for a movie."
      ],
      "metadata": {
        "id": "6qobHwp-_6Rk"
      }
    },
    {
      "cell_type": "code",
      "source": [
        "import numpy as np"
      ],
      "metadata": {
        "id": "7Am82z7rAx7j"
      },
      "execution_count": 23,
      "outputs": []
    },
    {
      "cell_type": "code",
      "execution_count": 24,
      "metadata": {
        "id": "lTSp2pzW_2qF"
      },
      "outputs": [],
      "source": [
        "def train_model(weight_matrix,input_matrix,learning_rate,epochs,target_value,bias):\n",
        "  for i in range(epochs):\n",
        "    for inputs,targets in zip(input_matrix,target_value):\n",
        "      prediction = np.dot(weight_matrix,inputs)\n",
        "      error = targets - prediction\n",
        "      weight_matrix += learning_rate * error * inputs\n",
        "      bias += learning_rate * error\n",
        "  return weight_matrix,bias"
      ]
    },
    {
      "cell_type": "code",
      "source": [
        "input_training_matrix = np.array([[0,0,0],[0,0,1],[0,1,1],[0,1,0],[1,0,0],[1,0,1],[1,1,0],[1,1,1]])\n",
        "target_training_values = np.array([0,0,1,0,1,1,1,1])\n",
        "learning_rate = 0.1\n",
        "epochs = 20\n",
        "bias = -5\n",
        "random_weight_matrix = np.random.rand(3)\n",
        "print(random_weight_matrix)\n",
        "print(bias)"
      ],
      "metadata": {
        "colab": {
          "base_uri": "https://localhost:8080/"
        },
        "id": "qVreag0wAzhM",
        "outputId": "4c2212e1-672a-42ca-ef99-ae8d931dda83"
      },
      "execution_count": 25,
      "outputs": [
        {
          "output_type": "stream",
          "name": "stdout",
          "text": [
            "[0.56745244 0.11535677 0.47950963]\n",
            "-5\n"
          ]
        }
      ]
    },
    {
      "cell_type": "code",
      "source": [
        "train_model(random_weight_matrix,input_training_matrix,learning_rate,epochs,target_training_values,bias)"
      ],
      "metadata": {
        "colab": {
          "base_uri": "https://localhost:8080/"
        },
        "id": "6DyZLvayBhKX",
        "outputId": "6c2cc59d-24f1-4663-fa8c-d79f355f197a"
      },
      "execution_count": 26,
      "outputs": [
        {
          "output_type": "execute_result",
          "data": {
            "text/plain": [
              "(array([0.7105692 , 0.22576008, 0.25482599]), -4.953304629838698)"
            ]
          },
          "metadata": {},
          "execution_count": 26
        }
      ]
    },
    {
      "cell_type": "code",
      "source": [
        "def predict(input,weight_matrix,bias):\n",
        "  prediction = np.dot(weight_matrix,input) + bias\n",
        "  return 1 if prediction>0 else 0"
      ],
      "metadata": {
        "id": "sFpgXTvIB00H"
      },
      "execution_count": 34,
      "outputs": []
    },
    {
      "cell_type": "code",
      "source": [
        "test_input = [0,0,0]\n",
        "result = 1\n",
        "predictions = predict(test_input,random_weight_matrix,bias)\n",
        "print(predictions)\n",
        "accuracy = np.mean(predictions == result) * 100\n",
        "print(accuracy)"
      ],
      "metadata": {
        "colab": {
          "base_uri": "https://localhost:8080/"
        },
        "id": "PGGxmDsZDfEv",
        "outputId": "36c65cae-d380-4342-901f-525faa208cd8"
      },
      "execution_count": 37,
      "outputs": [
        {
          "output_type": "stream",
          "name": "stdout",
          "text": [
            "0\n",
            "0.0\n"
          ]
        }
      ]
    },
    {
      "cell_type": "code",
      "source": [],
      "metadata": {
        "id": "UskJumQeD9KU"
      },
      "execution_count": null,
      "outputs": []
    }
  ]
}